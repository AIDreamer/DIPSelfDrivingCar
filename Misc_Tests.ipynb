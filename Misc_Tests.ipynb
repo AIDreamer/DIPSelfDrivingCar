{
 "cells": [
  {
   "cell_type": "code",
   "execution_count": 1,
   "metadata": {},
   "outputs": [
    {
     "name": "stdout",
     "output_type": "stream",
     "text": [
      "Model:\n",
      " <modeling.Model object at 0x1087ba358>\n",
      "cfg:\n",
      " {'MODEL': {'OUTPUT_DIR': 'models/', 'CONV_BODY': <function FCN_8 at 0x11e8636a8>, 'NUM_CLASSES': 150}, 'TRAIN': {'TRAINING': True, 'WEIGHTS': 'b', 'LEARNING_RATE': 0.005, 'BATCH_SIZE': 8}}\n",
      "weights_file:\n",
      " models/b\n"
     ]
    }
   ],
   "source": [
    "from __future__ import absolute_import\n",
    "from __future__ import division\n",
    "from __future__ import print_function\n",
    "from __future__ import unicode_literals\n",
    "\n",
    "import os\n",
    "import utils\n",
    "import tensorflow as tf\n",
    "from config import cfg\n",
    "import conv_bodies\n",
    "import modeling\n",
    "\n",
    "model, weights_file, output_dir = modeling.create_model()\n",
    "print('Model:\\n', model)\n",
    "print('cfg:\\n', cfg)\n",
    "print('weights_file:\\n', weights_file)\n",
    "\n"
   ]
  },
  {
   "cell_type": "code",
   "execution_count": 3,
   "metadata": {},
   "outputs": [
    {
     "name": "stdout",
     "output_type": "stream",
     "text": [
      "<class 'tensorflow.python.framework.ops.Tensor'>\n",
      "<unknown>\n"
     ]
    }
   ],
   "source": [
    "img_string = tf.read_file('train_data/ADE_train_00012440.jpg')\n",
    "img_decoded = tf.image.decode_image(img_string, channels=3)\n",
    "seg_string = tf.read_file('test_data/ADE_train_00012440_seg.png')\n",
    "seg_decoded = tf.image.decode_image(seg_string, channels=3)\n",
    "print(type(img_decoded))\n",
    "print(img_decoded.get_shape())"
   ]
  },
  {
   "cell_type": "code",
   "execution_count": 4,
   "metadata": {
    "scrolled": false
   },
   "outputs": [
    {
     "name": "stdout",
     "output_type": "stream",
     "text": [
      "<unknown>\n",
      "<class 'numpy.ndarray'>\n",
      "(1536, 2048, 3)\n"
     ]
    }
   ],
   "source": [
    "with tf.Session() as sess:\n",
    "    print(img_decoded.get_shape())\n",
    "    image_array = sess.run(img_decoded)\n",
    "    # print(image_tensor.get_shape())\n",
    "    print(type(image_array))\n",
    "    print(image_array.shape)"
   ]
  },
  {
   "cell_type": "code",
   "execution_count": 5,
   "metadata": {
    "scrolled": false
   },
   "outputs": [
    {
     "name": "stdout",
     "output_type": "stream",
     "text": [
      "[b'train_data/ADE_train_00012440.jpg' b'train_data/ADE_train_00012557.jpg']\n",
      "(1536, 2048, 3)\n",
      "(960, 1280, 3)\n"
     ]
    }
   ],
   "source": [
    "filenames = tf.train.match_filenames_once('train_data/*.jpg')\n",
    "filename_queue = tf.train.string_input_producer(filenames)\n",
    "\n",
    "\n",
    "image_reader = tf.WholeFileReader()\n",
    "key, image_file = image_reader.read(filename_queue)\n",
    "image_string = tf.image.decode_image(image_file)\n",
    "\n",
    "init = (tf.global_variables_initializer(), tf.local_variables_initializer())\n",
    "\n",
    "with tf.Session() as sess:\n",
    "    sess.run(init)\n",
    "    # Start populating the filename queue.\n",
    "    coord = tf.train.Coordinator()\n",
    "    threads = tf.train.start_queue_runners(coord=coord)\n",
    "    \n",
    "    print(sess.run(filenames))\n",
    "    for i in range(2):\n",
    "        image = sess.run(image_string)\n",
    "        print(image.shape)    \n",
    "\n",
    "\n",
    "    coord.request_stop()\n",
    "    coord.join(threads)\n",
    "\n",
    "\n"
   ]
  },
  {
   "cell_type": "code",
   "execution_count": 6,
   "metadata": {
    "scrolled": false
   },
   "outputs": [
    {
     "name": "stdout",
     "output_type": "stream",
     "text": [
      "<class 'tensorflow.python.ops.variables.Variable'>\n",
      "[b'train_data/ADE_train_00012440.jpg' b'train_data/ADE_train_00012557.jpg']\n",
      "<class 'tensorflow.python.framework.ops.Tensor'>\n"
     ]
    }
   ],
   "source": [
    "\n",
    "filenames = tf.train.match_filenames_once('train_data/*.jpg')\n",
    "\n",
    "init = (tf.global_variables_initializer(), tf.local_variables_initializer())\n",
    "print(type(filenames))\n",
    "\n",
    "with tf.Session() as sess:\n",
    "    sess.run(init)\n",
    "    print(sess.run(filenames))\n",
    "    print(type(filenames[0]))"
   ]
  },
  {
   "cell_type": "code",
   "execution_count": 7,
   "metadata": {},
   "outputs": [],
   "source": [
    "dataset, iterator = utils.load_dataset('train_data/', 'train_labels/')\n",
    "dataset2 = utils.load_dataset('train_data/')"
   ]
  },
  {
   "cell_type": "code",
   "execution_count": 8,
   "metadata": {},
   "outputs": [],
   "source": [
    "model.set_dataset('train_data/', 'train_labels/')\n",
    "model.set_dataset('train_data/')"
   ]
  },
  {
   "cell_type": "code",
   "execution_count": null,
   "metadata": {},
   "outputs": [],
   "source": []
  }
 ],
 "metadata": {
  "kernelspec": {
   "display_name": "Python 3",
   "language": "python",
   "name": "python3"
  },
  "language_info": {
   "codemirror_mode": {
    "name": "ipython",
    "version": 3
   },
   "file_extension": ".py",
   "mimetype": "text/x-python",
   "name": "python",
   "nbconvert_exporter": "python",
   "pygments_lexer": "ipython3",
   "version": "3.5.1"
  }
 },
 "nbformat": 4,
 "nbformat_minor": 2
}

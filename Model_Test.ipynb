{
 "cells": [
  {
   "cell_type": "code",
   "execution_count": 4,
   "metadata": {
    "scrolled": false
   },
   "outputs": [],
   "source": [
    "\"\"\"\n",
    "FULL CONVOLUTIONAL MODEL TEST\n",
    "\"\"\"\n",
    "\n",
    "from __future__ import absolute_import\n",
    "from __future__ import division\n",
    "from __future__ import print_function\n",
    "from __future__ import unicode_literals\n",
    "\n",
    "import os\n",
    "import utils\n",
    "import tensorflow as tf\n",
    "from config import cfg\n",
    "import conv_bodies\n",
    "import modeling\n",
    "import matplotlib.pyplot as plt\n",
    "\n",
    "\n",
    "model, weights_file, output_dir = modeling.create_model()\n",
    "model.set_dataset('train_data/', 'train_labels/')\n",
    "\n",
    "# ---------------------------------------------------------------------------- #\n",
    "# Test on batch or single image\n",
    "# ---------------------------------------------------------------------------- #\n",
    "\n",
    "output = model.RunSingle('train_data/ADE_train_00015912.jpg')\n",
    "# output = model.RunBatch()\n",
    "\n"
   ]
  },
  {
   "cell_type": "code",
   "execution_count": 5,
   "metadata": {},
   "outputs": [],
   "source": [
    "sess = tf.Session(graph=model._graph)\n",
    "data = sess.run(output)"
   ]
  },
  {
   "cell_type": "code",
   "execution_count": 6,
   "metadata": {},
   "outputs": [
    {
     "name": "stdout",
     "output_type": "stream",
     "text": [
      "Number of training images: 1\n",
      "(507, 380, 150)\n"
     ]
    },
    {
     "name": "stderr",
     "output_type": "stream",
     "text": [
      "/Library/Frameworks/Python.framework/Versions/3.5/lib/python3.5/site-packages/ipykernel_launcher.py:4: DeprecationWarning: `imsave` is deprecated!\n",
      "`imsave` is deprecated in SciPy 1.0.0, and will be removed in 1.2.0.\n",
      "Use ``imageio.imwrite`` instead.\n",
      "  after removing the cwd from sys.path.\n"
     ]
    }
   ],
   "source": [
    "import scipy.misc\n",
    "print('Number of training images:', len(data))\n",
    "print(data[0].shape)\n",
    "scipy.misc.imsave('model_test4.jpg', data[0][..., 5:8])\n"
   ]
  },
  {
   "cell_type": "code",
   "execution_count": 5,
   "metadata": {},
   "outputs": [
    {
     "name": "stdout",
     "output_type": "stream",
     "text": [
      "Tranpose Conv Output Shape:\n",
      "(2, 224, 224, 3)\n",
      "Transpose Conv Filter Shape:\n",
      "(2, 14, 14, 224)\n"
     ]
    }
   ],
   "source": [
    "\"\"\"\n",
    "Example test for shapes with constant tensors \n",
    "\"\"\"\n",
    "\n",
    "sess = tf.Session()\n",
    "batch_size = 2\n",
    "output_shape = [batch_size, 224, 224, 3]\n",
    "strides = [1, 16, 16, 1]\n",
    "\n",
    "l = tf.constant(0.1, shape=[batch_size, 14, 14, 224])\n",
    "w = tf.constant(0.1, shape=[3, 3, 3, 224])\n",
    "\n",
    "h1 = tf.nn.conv2d_transpose(l, w, output_shape=output_shape, strides=strides, padding='SAME')\n",
    "print('Tranpose Conv Output Shape:')\n",
    "print(sess.run(h1).shape)\n",
    "\n",
    "\n",
    "output = tf.constant(0.1, shape=output_shape)\n",
    "expected_l = tf.nn.conv2d(output, w, strides=strides, padding='SAME')\n",
    "print('Transpose Conv Filter Shape:')\n",
    "print(expected_l.get_shape())"
   ]
  },
  {
   "cell_type": "code",
   "execution_count": 15,
   "metadata": {},
   "outputs": [
    {
     "name": "stdout",
     "output_type": "stream",
     "text": [
      "(2, 28, 28, 256)\n",
      "(2, 14, 14, 512)\n"
     ]
    }
   ],
   "source": [
    "\"\"\"\n",
    "Example test for shapes with constant tensors \n",
    "\"\"\"\n",
    "\n",
    "sess = tf.Session()\n",
    "batch_size = 2\n",
    "output_shape = [batch_size, 28, 28, 256]\n",
    "strides = [1, 2, 2, 1]\n",
    "\n",
    "l = tf.constant(0.1, shape=[batch_size, 14, 14, 512])\n",
    "w = tf.constant(0.1, shape=[3, 3, 256, 512])\n",
    "\n",
    "h1 = tf.nn.conv2d_transpose(l, w, output_shape=output_shape, strides=strides, padding='SAME')\n",
    "print(sess.run(h1).shape)\n",
    "\n",
    "\n",
    "output = tf.constant(0.1, shape=output_shape)\n",
    "expected_l = tf.nn.conv2d(output, w, strides=strides, padding='SAME')\n",
    "print(expected_l.get_shape())\n"
   ]
  },
  {
   "cell_type": "code",
   "execution_count": null,
   "metadata": {},
   "outputs": [],
   "source": []
  }
 ],
 "metadata": {
  "kernelspec": {
   "display_name": "Python 3",
   "language": "python",
   "name": "python3"
  },
  "language_info": {
   "codemirror_mode": {
    "name": "ipython",
    "version": 3
   },
   "file_extension": ".py",
   "mimetype": "text/x-python",
   "name": "python",
   "nbconvert_exporter": "python",
   "pygments_lexer": "ipython3",
   "version": "3.5.1"
  }
 },
 "nbformat": 4,
 "nbformat_minor": 2
}

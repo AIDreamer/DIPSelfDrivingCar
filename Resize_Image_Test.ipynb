{
 "cells": [
  {
   "cell_type": "code",
   "execution_count": 1,
   "metadata": {},
   "outputs": [
    {
     "data": {
      "text/plain": [
       "<matplotlib.figure.Figure at 0x11f475dd8>"
      ]
     },
     "metadata": {},
     "output_type": "display_data"
    },
    {
     "name": "stdout",
     "output_type": "stream",
     "text": [
      "plt.imshow() messes up here, check the saved image file to see the actual resized image.\n"
     ]
    },
    {
     "data": {
      "text/plain": [
       "<matplotlib.figure.Figure at 0x11e9ad1d0>"
      ]
     },
     "metadata": {},
     "output_type": "display_data"
    },
    {
     "name": "stderr",
     "output_type": "stream",
     "text": [
      "/Library/Frameworks/Python.framework/Versions/3.5/lib/python3.5/site-packages/ipykernel_launcher.py:18: DeprecationWarning: `imsave` is deprecated!\n",
      "`imsave` is deprecated in SciPy 1.0.0, and will be removed in 1.2.0.\n",
      "Use ``imageio.imwrite`` instead.\n"
     ]
    }
   ],
   "source": [
    "import tensorflow as tf\n",
    "import matplotlib.pyplot as plt\n",
    "import scipy.misc\n",
    "\n",
    "filename = 'train_data/ADE_train_00012440.jpg'\n",
    "image_string = tf.read_file(filename)\n",
    "image_decoded = tf.image.decode_jpeg(image_string)\n",
    "image_decoded_resized = tf.image.resize_images(image_decoded, [224, 224])\n",
    "\n",
    "with tf.Session() as sess:\n",
    "    image = sess.run(image_decoded)\n",
    "    image_resized = sess.run(image_decoded_resized)\n",
    "plt.imshow(image)\n",
    "plt.show()\n",
    "print('plt.imshow() messes up here, check the saved image file to see the actual resized image.')\n",
    "plt.imshow(image_resized)\n",
    "plt.show()\n",
    "scipy.misc.imsave('resize_test.jpg', image_resized)"
   ]
  },
  {
   "cell_type": "code",
   "execution_count": null,
   "metadata": {},
   "outputs": [],
   "source": []
  }
 ],
 "metadata": {
  "kernelspec": {
   "display_name": "Python 3",
   "language": "python",
   "name": "python3"
  },
  "language_info": {
   "codemirror_mode": {
    "name": "ipython",
    "version": 3
   },
   "file_extension": ".py",
   "mimetype": "text/x-python",
   "name": "python",
   "nbconvert_exporter": "python",
   "pygments_lexer": "ipython3",
   "version": "3.5.1"
  }
 },
 "nbformat": 4,
 "nbformat_minor": 2
}

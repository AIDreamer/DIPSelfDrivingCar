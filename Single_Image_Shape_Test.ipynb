{
 "cells": [
  {
   "cell_type": "code",
   "execution_count": 1,
   "metadata": {},
   "outputs": [
    {
     "name": "stdout",
     "output_type": "stream",
     "text": [
      "<class 'numpy.ndarray'>\n",
      "(1, 507, 380, 3)\n",
      "<class 'tensorflow.python.framework.ops.Tensor'>\n",
      "(1, 507, 380, 3)\n"
     ]
    }
   ],
   "source": [
    "import tensorflow as tf\n",
    "import utils\n",
    "\n",
    "graph = tf.Graph()\n",
    "tensor = utils.load_image('train_data/ADE_train_00015912.jpg', graph)\n",
    "with tf.Session(graph=graph) as sess:\n",
    "    image = sess.run(tensor)\n",
    "    print(type(image))\n",
    "    print(image.shape)\n",
    "    tensor2 = tf.convert_to_tensor(image, dtype=tf.float32)\n",
    "    print(type(tensor2))\n",
    "    print(tensor2.shape)"
   ]
  },
  {
   "cell_type": "code",
   "execution_count": null,
   "metadata": {},
   "outputs": [],
   "source": []
  }
 ],
 "metadata": {
  "kernelspec": {
   "display_name": "Python 3",
   "language": "python",
   "name": "python3"
  },
  "language_info": {
   "codemirror_mode": {
    "name": "ipython",
    "version": 3
   },
   "file_extension": ".py",
   "mimetype": "text/x-python",
   "name": "python",
   "nbconvert_exporter": "python",
   "pygments_lexer": "ipython3",
   "version": "3.5.1"
  }
 },
 "nbformat": 4,
 "nbformat_minor": 2
}

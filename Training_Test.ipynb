{
 "cells": [
  {
   "cell_type": "code",
   "execution_count": 1,
   "metadata": {
    "scrolled": false
   },
   "outputs": [
    {
     "name": "stdout",
     "output_type": "stream",
     "text": [
      "Loss: 5.0162034\n",
      "Loss: 5.0162024\n",
      "Model saved in path: models/b_final\n"
     ]
    }
   ],
   "source": [
    "from __future__ import absolute_import\n",
    "from __future__ import division\n",
    "from __future__ import print_function\n",
    "from __future__ import unicode_literals\n",
    "\n",
    "import os\n",
    "import utils\n",
    "import tensorflow as tf\n",
    "from config import cfg\n",
    "import conv_bodies\n",
    "import modeling\n",
    "import matplotlib.pyplot as plt\n",
    "\n",
    "\n",
    "model, weights_file, output_dir = modeling.create_model()\n",
    "model.set_dataset('/Users/reed/Documents/ADEChallengeData2016/images/training/', \n",
    "                  '/Users/reed/Documents/ADEChallengeData2016/annotations/training/')\n",
    "\n",
    "model.Train()"
   ]
  },
  {
   "cell_type": "code",
   "execution_count": null,
   "metadata": {},
   "outputs": [],
   "source": []
  },
  {
   "cell_type": "code",
   "execution_count": null,
   "metadata": {},
   "outputs": [],
   "source": []
  }
 ],
 "metadata": {
  "kernelspec": {
   "display_name": "Python 3",
   "language": "python",
   "name": "python3"
  },
  "language_info": {
   "codemirror_mode": {
    "name": "ipython",
    "version": 3
   },
   "file_extension": ".py",
   "mimetype": "text/x-python",
   "name": "python",
   "nbconvert_exporter": "python",
   "pygments_lexer": "ipython3",
   "version": "3.5.1"
  }
 },
 "nbformat": 4,
 "nbformat_minor": 2
}
